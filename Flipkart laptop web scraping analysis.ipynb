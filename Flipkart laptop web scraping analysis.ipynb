{
 "cells": [
  {
   "cell_type": "code",
   "execution_count": 1,
   "id": "3568a33f",
   "metadata": {},
   "outputs": [],
   "source": [
    "import requests                      # used to send HTTP requests and interact with web pages.\n",
    "from bs4 import BeautifulSoup        #used for web scraping. It helps parse and extract information from HTML and XML documents.\n",
    "import numpy as np                   #for numerical computing in Python\n",
    "import pandas as pd                  #data manipulation and analysis.\n",
    "import matplotlib.pyplot as plt      #plotting library.\n",
    "import seaborn as sns                #Seaborn is another data visualization library built on top of Matplotlib.\n"
   ]
  },
  {
   "cell_type": "code",
   "execution_count": 2,
   "id": "6cf6cf97",
   "metadata": {},
   "outputs": [
    {
     "name": "stdout",
     "output_type": "stream",
     "text": [
      "https://flipkart.com/search?q=laptop+under+20000&sid=6bo%2Cb5g&as=on&as-show=on&otracker=AS_QueryStore_OrganicAutoSuggest_2_13_na_na_na&otracker1=AS_QueryStore_OrganicAutoSuggest_2_13_na_na_na&as-pos=2&as-type=RECENT&suggestionId=laptop+under+20000%7CLaptops&requestId=391506f8-dfb9-4bb7-8fea-8cdec70a9443&as-searchtext=laptop+under+&page=1\n"
     ]
    }
   ],
   "source": [
    "url = 'https://www.flipkart.com/search?q=laptop+under+20000&sid=6bo%2Cb5g&as=on&as-show=on&otracker=AS_QueryStore_OrganicAutoSuggest_2_13_na_na_na&otracker1=AS_QueryStore_OrganicAutoSuggest_2_13_na_na_na&as-pos=2&as-type=RECENT&suggestionId=laptop+under+20000%7CLaptops&requestId=391506f8-dfb9-4bb7-8fea-8cdec70a9443&as-searchtext=laptop%20under%20'\n",
    "response = requests.get(url)\n",
    "soup = BeautifulSoup(response.content, 'html.parser')\n",
    "#print(soup)\n",
    "\n",
    "#create new page change link\n",
    "page_link = soup.find('a', class_='ge-49M _2Kfbh8').get('href')\n",
    "chage_link = 'https://flipkart.com'+page_link\n",
    "print(chage_link) "
   ]
  },
  {
   "cell_type": "code",
   "execution_count": 3,
   "id": "6882aec6",
   "metadata": {},
   "outputs": [],
   "source": [
    "#create empty list to store result of each section\n",
    "\n",
    "product_name = []\n",
    "prices = []\n",
    "totals = []\n",
    "offer = []\n",
    "rating = []\n",
    "processor = []\n",
    "description = []\n"
   ]
  },
  {
   "cell_type": "code",
   "execution_count": 4,
   "id": "cfeb2c8e",
   "metadata": {},
   "outputs": [],
   "source": [
    "for i in range(1, 51):\n",
    "    url = f\"{chage_link[:-1]}{i}\"\n",
    "    response = requests.get(url)\n",
    "    soup = BeautifulSoup(response.content, 'html.parser')\n",
    "    \n",
    "    box = soup.find('div', class_='_1YokD2 _3Mn1Gg')\n",
    "    product_details = box.find_all('div', class_='_3pLy-c row')\n",
    "    \n",
    "    for detail in product_details:\n",
    "        \n",
    "        #get product name from page\n",
    "        name = detail.find('div', class_='_4rR01T')\n",
    "        if name is not None:\n",
    "            product_name.append(name.text)\n",
    "        else:\n",
    "            product_name.append('N/A')\n",
    "        \n",
    "        #get product price from page\n",
    "        price = detail.find('div', class_='_30jeq3 _1_WHN1')\n",
    "        if price is not None:\n",
    "            prices.append(price.text)\n",
    "        else:\n",
    "            prices.append('N/A')\n",
    "        \n",
    "        #get product total price from page\n",
    "        total = detail.find('div', class_='_3I9_wc _27UcVY')\n",
    "        if total is not None:\n",
    "            totals.append(total.text)\n",
    "        else:\n",
    "            totals.append('N/A')\n",
    "        \n",
    "        ##get product offer from page\n",
    "        off = detail.find('div', class_='_3Ay6Sb')\n",
    "        if off is not None:\n",
    "            off_span = off.find('span')\n",
    "            if off_span is not None:\n",
    "                offer.append(off_span.text)\n",
    "            else:\n",
    "                offer.append('N/A')\n",
    "        else:\n",
    "            offer.append('N/A')\n",
    "        \n",
    "        \n",
    "        ##get product rating from page\n",
    "        rate = detail.find('div', class_='_3LWZlK')\n",
    "        if rate is not None:\n",
    "            rating.append(rate.text)\n",
    "        else:\n",
    "            rating.append('N/A')\n",
    "        \n",
    "        \n",
    "        #get product processor from page\n",
    "        pro = detail.find('li', class_='rgWa7D')\n",
    "        if pro is not None:\n",
    "            processor.append(pro.text)\n",
    "        else:\n",
    "            processor.append('N/A')\n",
    "            \n",
    "            \n",
    "        ##get product description from page    \n",
    "        desc = detail.find('ul', class_='_1xgFaf')\n",
    "        if desc is not None:\n",
    "            description.append(desc.text)\n",
    "        else:\n",
    "            description.append('N/A')\n",
    "    "
   ]
  },
  {
   "cell_type": "code",
   "execution_count": 5,
   "id": "7c59dec2",
   "metadata": {},
   "outputs": [],
   "source": [
    "#Change to dataframe information\n",
    "df = pd.DataFrame({\"Product_Name\":product_name,\"Total\":totals,\"Selling_Price\":prices,\"Offer\":offer,\"Ratings\":rating,\"Processor\":processor,\"Description\":description})\n"
   ]
  },
  {
   "cell_type": "code",
   "execution_count": 6,
   "id": "11f41216",
   "metadata": {},
   "outputs": [],
   "source": [
    "# convert to csv file \n",
    "df.to_csv('laptop_details.csv', index=False)"
   ]
  },
  {
   "cell_type": "code",
   "execution_count": 7,
   "id": "2e2fcae6",
   "metadata": {},
   "outputs": [
    {
     "data": {
      "text/html": [
       "<div>\n",
       "<style scoped>\n",
       "    .dataframe tbody tr th:only-of-type {\n",
       "        vertical-align: middle;\n",
       "    }\n",
       "\n",
       "    .dataframe tbody tr th {\n",
       "        vertical-align: top;\n",
       "    }\n",
       "\n",
       "    .dataframe thead th {\n",
       "        text-align: right;\n",
       "    }\n",
       "</style>\n",
       "<table border=\"1\" class=\"dataframe\">\n",
       "  <thead>\n",
       "    <tr style=\"text-align: right;\">\n",
       "      <th></th>\n",
       "      <th>Product_Name</th>\n",
       "      <th>Total</th>\n",
       "      <th>Selling_Price</th>\n",
       "      <th>Offer</th>\n",
       "      <th>Ratings</th>\n",
       "      <th>Processor</th>\n",
       "      <th>Description</th>\n",
       "    </tr>\n",
       "  </thead>\n",
       "  <tbody>\n",
       "    <tr>\n",
       "      <th>0</th>\n",
       "      <td>Infinix Y1 Plus Neo (2023) Celeron Quad Core 1...</td>\n",
       "      <td>₹29,990</td>\n",
       "      <td>₹20,990</td>\n",
       "      <td>30% off</td>\n",
       "      <td>N/A</td>\n",
       "      <td>Intel Celeron Quad Core Processor (11th Gen)</td>\n",
       "      <td>Intel Celeron Quad Core Processor (11th Gen)4 ...</td>\n",
       "    </tr>\n",
       "    <tr>\n",
       "      <th>1</th>\n",
       "      <td>Infinix ZERO BOOK ULTRA Series Laptop Intel Co...</td>\n",
       "      <td>₹1,49,990</td>\n",
       "      <td>₹94,990</td>\n",
       "      <td>36% off</td>\n",
       "      <td>4.3</td>\n",
       "      <td>Intel Core i9 Processor (12th Gen)</td>\n",
       "      <td>Intel Core i9 Processor (12th Gen)32 GB LPDDR5...</td>\n",
       "    </tr>\n",
       "    <tr>\n",
       "      <th>2</th>\n",
       "      <td>Lenovo Athlon Dual Core 3050U - (4 GB/256 GB S...</td>\n",
       "      <td>₹35,000</td>\n",
       "      <td>₹18,999</td>\n",
       "      <td>45% off</td>\n",
       "      <td>3.8</td>\n",
       "      <td>AMD Athlon Dual Core Processor</td>\n",
       "      <td>AMD Athlon Dual Core Processor4 GB DDR4 RAMWin...</td>\n",
       "    </tr>\n",
       "    <tr>\n",
       "      <th>3</th>\n",
       "      <td>ASUS Chromebook Touch Intel Celeron Dual Core ...</td>\n",
       "      <td>₹30,990</td>\n",
       "      <td>₹18,990</td>\n",
       "      <td>38% off</td>\n",
       "      <td>3.8</td>\n",
       "      <td>Intel Celeron Dual Core Processor</td>\n",
       "      <td>Intel Celeron Dual Core Processor4 GB LPDDR4 R...</td>\n",
       "    </tr>\n",
       "    <tr>\n",
       "      <th>4</th>\n",
       "      <td>Lenovo Athlon Dual Core - (4 GB/256 GB SSD/DOS...</td>\n",
       "      <td>₹38,000</td>\n",
       "      <td>₹18,490</td>\n",
       "      <td>51% off</td>\n",
       "      <td>3.8</td>\n",
       "      <td>AMD Athlon Dual Core Processor</td>\n",
       "      <td>AMD Athlon Dual Core Processor4 GB DDR4 RAMDOS...</td>\n",
       "    </tr>\n",
       "    <tr>\n",
       "      <th>5</th>\n",
       "      <td>Avita SATUS S111 Celeron Dual Core - (4 GB/128...</td>\n",
       "      <td>₹29,990</td>\n",
       "      <td>₹16,490</td>\n",
       "      <td>45% off</td>\n",
       "      <td>3.7</td>\n",
       "      <td>Intel Celeron Dual Core Processor</td>\n",
       "      <td>Intel Celeron Dual Core Processor4 GB DDR4 RAM...</td>\n",
       "    </tr>\n",
       "    <tr>\n",
       "      <th>6</th>\n",
       "      <td>ASUS Chromebook Touch Intel Celeron Dual Core ...</td>\n",
       "      <td>₹29,990</td>\n",
       "      <td>₹17,990</td>\n",
       "      <td>40% off</td>\n",
       "      <td>3.9</td>\n",
       "      <td>Intel Celeron Dual Core Processor</td>\n",
       "      <td>Intel Celeron Dual Core Processor4 GB LPDDR4 R...</td>\n",
       "    </tr>\n",
       "    <tr>\n",
       "      <th>7</th>\n",
       "      <td>Infinix INBook Y1 Plus Intel Core i3 10th Gen ...</td>\n",
       "      <td>₹44,990</td>\n",
       "      <td>₹27,990</td>\n",
       "      <td>37% off</td>\n",
       "      <td>4.2</td>\n",
       "      <td>Intel Core i3 Processor (10th Gen)</td>\n",
       "      <td>Intel Core i3 Processor (10th Gen)8 GB LPDDR4X...</td>\n",
       "    </tr>\n",
       "    <tr>\n",
       "      <th>8</th>\n",
       "      <td>Avita SATUS S111 Celeron Dual Core - (4 GB/128...</td>\n",
       "      <td>₹29,990</td>\n",
       "      <td>₹16,490</td>\n",
       "      <td>45% off</td>\n",
       "      <td>3.7</td>\n",
       "      <td>Intel Celeron Dual Core Processor</td>\n",
       "      <td>Intel Celeron Dual Core Processor4 GB DDR4 RAM...</td>\n",
       "    </tr>\n",
       "    <tr>\n",
       "      <th>9</th>\n",
       "      <td>ASUS EeeBook 12 Celeron Dual Core 4th Gen - (4...</td>\n",
       "      <td>₹25,990</td>\n",
       "      <td>₹17,990</td>\n",
       "      <td>30% off</td>\n",
       "      <td>3.9</td>\n",
       "      <td>Intel Celeron Dual Core Processor (4th Gen)</td>\n",
       "      <td>Intel Celeron Dual Core Processor (4th Gen)4 G...</td>\n",
       "    </tr>\n",
       "  </tbody>\n",
       "</table>\n",
       "</div>"
      ],
      "text/plain": [
       "                                        Product_Name      Total Selling_Price  \\\n",
       "0  Infinix Y1 Plus Neo (2023) Celeron Quad Core 1...    ₹29,990       ₹20,990   \n",
       "1  Infinix ZERO BOOK ULTRA Series Laptop Intel Co...  ₹1,49,990       ₹94,990   \n",
       "2  Lenovo Athlon Dual Core 3050U - (4 GB/256 GB S...    ₹35,000       ₹18,999   \n",
       "3  ASUS Chromebook Touch Intel Celeron Dual Core ...    ₹30,990       ₹18,990   \n",
       "4  Lenovo Athlon Dual Core - (4 GB/256 GB SSD/DOS...    ₹38,000       ₹18,490   \n",
       "5  Avita SATUS S111 Celeron Dual Core - (4 GB/128...    ₹29,990       ₹16,490   \n",
       "6  ASUS Chromebook Touch Intel Celeron Dual Core ...    ₹29,990       ₹17,990   \n",
       "7  Infinix INBook Y1 Plus Intel Core i3 10th Gen ...    ₹44,990       ₹27,990   \n",
       "8  Avita SATUS S111 Celeron Dual Core - (4 GB/128...    ₹29,990       ₹16,490   \n",
       "9  ASUS EeeBook 12 Celeron Dual Core 4th Gen - (4...    ₹25,990       ₹17,990   \n",
       "\n",
       "     Offer Ratings                                     Processor  \\\n",
       "0  30% off     N/A  Intel Celeron Quad Core Processor (11th Gen)   \n",
       "1  36% off     4.3            Intel Core i9 Processor (12th Gen)   \n",
       "2  45% off     3.8                AMD Athlon Dual Core Processor   \n",
       "3  38% off     3.8             Intel Celeron Dual Core Processor   \n",
       "4  51% off     3.8                AMD Athlon Dual Core Processor   \n",
       "5  45% off     3.7             Intel Celeron Dual Core Processor   \n",
       "6  40% off     3.9             Intel Celeron Dual Core Processor   \n",
       "7  37% off     4.2            Intel Core i3 Processor (10th Gen)   \n",
       "8  45% off     3.7             Intel Celeron Dual Core Processor   \n",
       "9  30% off     3.9   Intel Celeron Dual Core Processor (4th Gen)   \n",
       "\n",
       "                                         Description  \n",
       "0  Intel Celeron Quad Core Processor (11th Gen)4 ...  \n",
       "1  Intel Core i9 Processor (12th Gen)32 GB LPDDR5...  \n",
       "2  AMD Athlon Dual Core Processor4 GB DDR4 RAMWin...  \n",
       "3  Intel Celeron Dual Core Processor4 GB LPDDR4 R...  \n",
       "4  AMD Athlon Dual Core Processor4 GB DDR4 RAMDOS...  \n",
       "5  Intel Celeron Dual Core Processor4 GB DDR4 RAM...  \n",
       "6  Intel Celeron Dual Core Processor4 GB LPDDR4 R...  \n",
       "7  Intel Core i3 Processor (10th Gen)8 GB LPDDR4X...  \n",
       "8  Intel Celeron Dual Core Processor4 GB DDR4 RAM...  \n",
       "9  Intel Celeron Dual Core Processor (4th Gen)4 G...  "
      ]
     },
     "execution_count": 7,
     "metadata": {},
     "output_type": "execute_result"
    }
   ],
   "source": [
    "df.head(10)\n"
   ]
  },
  {
   "cell_type": "code",
   "execution_count": 8,
   "id": "f8712997",
   "metadata": {},
   "outputs": [
    {
     "data": {
      "text/plain": [
       "(984, 7)"
      ]
     },
     "execution_count": 8,
     "metadata": {},
     "output_type": "execute_result"
    }
   ],
   "source": [
    "#dimensions of the DataFrame in the format (rows, columns).\n",
    "df.shape"
   ]
  },
  {
   "cell_type": "code",
   "execution_count": 9,
   "id": "4ba5b3fc",
   "metadata": {},
   "outputs": [
    {
     "name": "stdout",
     "output_type": "stream",
     "text": [
      "<class 'pandas.core.frame.DataFrame'>\n",
      "RangeIndex: 984 entries, 0 to 983\n",
      "Data columns (total 7 columns):\n",
      " #   Column         Non-Null Count  Dtype \n",
      "---  ------         --------------  ----- \n",
      " 0   Product_Name   984 non-null    object\n",
      " 1   Total          984 non-null    object\n",
      " 2   Selling_Price  984 non-null    object\n",
      " 3   Offer          984 non-null    object\n",
      " 4   Ratings        984 non-null    object\n",
      " 5   Processor      984 non-null    object\n",
      " 6   Description    984 non-null    object\n",
      "dtypes: object(7)\n",
      "memory usage: 53.9+ KB\n"
     ]
    }
   ],
   "source": [
    "#information about the DataFrame, including the number of non-null values, data types of columns, memory usage, and more.\n",
    "df.info()"
   ]
  },
  {
   "cell_type": "code",
   "execution_count": 10,
   "id": "2d3f5983",
   "metadata": {},
   "outputs": [],
   "source": [
    "#create a way to represent missing or unknown data.\n",
    "df.replace('N/A', np.nan, inplace=True)"
   ]
  },
  {
   "cell_type": "code",
   "execution_count": 11,
   "id": "d6c2958c",
   "metadata": {},
   "outputs": [
    {
     "data": {
      "text/plain": [
       "Product_Name       0\n",
       "Total              7\n",
       "Selling_Price      1\n",
       "Offer             10\n",
       "Ratings          204\n",
       "Processor          0\n",
       "Description        0\n",
       "dtype: int64"
      ]
     },
     "execution_count": 11,
     "metadata": {},
     "output_type": "execute_result"
    }
   ],
   "source": [
    "#It returns a Series object that shows the count of null values for each column.\n",
    "df.isnull().sum()"
   ]
  },
  {
   "cell_type": "code",
   "execution_count": 12,
   "id": "a678cea2",
   "metadata": {},
   "outputs": [],
   "source": [
    "# Create method to drop rows containing missing values (NaN). So for this dropna is used to remove rows with NaN values.\n",
    "df.dropna(subset=['Total','Selling_Price','Offer'], inplace=True, axis=0)\n"
   ]
  },
  {
   "cell_type": "code",
   "execution_count": 13,
   "id": "b929563e",
   "metadata": {},
   "outputs": [],
   "source": [
    "df['Total'] = df['Total'].str.replace('₹', '').str.replace(',', '').astype('int')\n",
    "df['Selling_Price'] = df['Selling_Price'].str.replace('₹', '').str.replace(',', '').astype('int')\n",
    "df['Offer'] = df['Offer'].str.replace('off', '')"
   ]
  },
  {
   "cell_type": "code",
   "execution_count": 14,
   "id": "4e5c25ab",
   "metadata": {},
   "outputs": [
    {
     "data": {
      "text/html": [
       "<div>\n",
       "<style scoped>\n",
       "    .dataframe tbody tr th:only-of-type {\n",
       "        vertical-align: middle;\n",
       "    }\n",
       "\n",
       "    .dataframe tbody tr th {\n",
       "        vertical-align: top;\n",
       "    }\n",
       "\n",
       "    .dataframe thead th {\n",
       "        text-align: right;\n",
       "    }\n",
       "</style>\n",
       "<table border=\"1\" class=\"dataframe\">\n",
       "  <thead>\n",
       "    <tr style=\"text-align: right;\">\n",
       "      <th></th>\n",
       "      <th>Product_Name</th>\n",
       "      <th>Total</th>\n",
       "      <th>Selling_Price</th>\n",
       "      <th>Offer</th>\n",
       "      <th>Ratings</th>\n",
       "      <th>Processor</th>\n",
       "      <th>Description</th>\n",
       "    </tr>\n",
       "  </thead>\n",
       "  <tbody>\n",
       "    <tr>\n",
       "      <th>0</th>\n",
       "      <td>Infinix Y1 Plus Neo (2023) Celeron Quad Core 1...</td>\n",
       "      <td>29990</td>\n",
       "      <td>20990</td>\n",
       "      <td>30%</td>\n",
       "      <td>NaN</td>\n",
       "      <td>Intel Celeron Quad Core Processor (11th Gen)</td>\n",
       "      <td>Intel Celeron Quad Core Processor (11th Gen)4 ...</td>\n",
       "    </tr>\n",
       "    <tr>\n",
       "      <th>1</th>\n",
       "      <td>Infinix ZERO BOOK ULTRA Series Laptop Intel Co...</td>\n",
       "      <td>149990</td>\n",
       "      <td>94990</td>\n",
       "      <td>36%</td>\n",
       "      <td>4.3</td>\n",
       "      <td>Intel Core i9 Processor (12th Gen)</td>\n",
       "      <td>Intel Core i9 Processor (12th Gen)32 GB LPDDR5...</td>\n",
       "    </tr>\n",
       "    <tr>\n",
       "      <th>2</th>\n",
       "      <td>Lenovo Athlon Dual Core 3050U - (4 GB/256 GB S...</td>\n",
       "      <td>35000</td>\n",
       "      <td>18999</td>\n",
       "      <td>45%</td>\n",
       "      <td>3.8</td>\n",
       "      <td>AMD Athlon Dual Core Processor</td>\n",
       "      <td>AMD Athlon Dual Core Processor4 GB DDR4 RAMWin...</td>\n",
       "    </tr>\n",
       "    <tr>\n",
       "      <th>3</th>\n",
       "      <td>ASUS Chromebook Touch Intel Celeron Dual Core ...</td>\n",
       "      <td>30990</td>\n",
       "      <td>18990</td>\n",
       "      <td>38%</td>\n",
       "      <td>3.8</td>\n",
       "      <td>Intel Celeron Dual Core Processor</td>\n",
       "      <td>Intel Celeron Dual Core Processor4 GB LPDDR4 R...</td>\n",
       "    </tr>\n",
       "    <tr>\n",
       "      <th>4</th>\n",
       "      <td>Lenovo Athlon Dual Core - (4 GB/256 GB SSD/DOS...</td>\n",
       "      <td>38000</td>\n",
       "      <td>18490</td>\n",
       "      <td>51%</td>\n",
       "      <td>3.8</td>\n",
       "      <td>AMD Athlon Dual Core Processor</td>\n",
       "      <td>AMD Athlon Dual Core Processor4 GB DDR4 RAMDOS...</td>\n",
       "    </tr>\n",
       "    <tr>\n",
       "      <th>5</th>\n",
       "      <td>Avita SATUS S111 Celeron Dual Core - (4 GB/128...</td>\n",
       "      <td>29990</td>\n",
       "      <td>16490</td>\n",
       "      <td>45%</td>\n",
       "      <td>3.7</td>\n",
       "      <td>Intel Celeron Dual Core Processor</td>\n",
       "      <td>Intel Celeron Dual Core Processor4 GB DDR4 RAM...</td>\n",
       "    </tr>\n",
       "    <tr>\n",
       "      <th>6</th>\n",
       "      <td>ASUS Chromebook Touch Intel Celeron Dual Core ...</td>\n",
       "      <td>29990</td>\n",
       "      <td>17990</td>\n",
       "      <td>40%</td>\n",
       "      <td>3.9</td>\n",
       "      <td>Intel Celeron Dual Core Processor</td>\n",
       "      <td>Intel Celeron Dual Core Processor4 GB LPDDR4 R...</td>\n",
       "    </tr>\n",
       "    <tr>\n",
       "      <th>7</th>\n",
       "      <td>Infinix INBook Y1 Plus Intel Core i3 10th Gen ...</td>\n",
       "      <td>44990</td>\n",
       "      <td>27990</td>\n",
       "      <td>37%</td>\n",
       "      <td>4.2</td>\n",
       "      <td>Intel Core i3 Processor (10th Gen)</td>\n",
       "      <td>Intel Core i3 Processor (10th Gen)8 GB LPDDR4X...</td>\n",
       "    </tr>\n",
       "    <tr>\n",
       "      <th>8</th>\n",
       "      <td>Avita SATUS S111 Celeron Dual Core - (4 GB/128...</td>\n",
       "      <td>29990</td>\n",
       "      <td>16490</td>\n",
       "      <td>45%</td>\n",
       "      <td>3.7</td>\n",
       "      <td>Intel Celeron Dual Core Processor</td>\n",
       "      <td>Intel Celeron Dual Core Processor4 GB DDR4 RAM...</td>\n",
       "    </tr>\n",
       "    <tr>\n",
       "      <th>9</th>\n",
       "      <td>ASUS EeeBook 12 Celeron Dual Core 4th Gen - (4...</td>\n",
       "      <td>25990</td>\n",
       "      <td>17990</td>\n",
       "      <td>30%</td>\n",
       "      <td>3.9</td>\n",
       "      <td>Intel Celeron Dual Core Processor (4th Gen)</td>\n",
       "      <td>Intel Celeron Dual Core Processor (4th Gen)4 G...</td>\n",
       "    </tr>\n",
       "  </tbody>\n",
       "</table>\n",
       "</div>"
      ],
      "text/plain": [
       "                                        Product_Name   Total  Selling_Price  \\\n",
       "0  Infinix Y1 Plus Neo (2023) Celeron Quad Core 1...   29990          20990   \n",
       "1  Infinix ZERO BOOK ULTRA Series Laptop Intel Co...  149990          94990   \n",
       "2  Lenovo Athlon Dual Core 3050U - (4 GB/256 GB S...   35000          18999   \n",
       "3  ASUS Chromebook Touch Intel Celeron Dual Core ...   30990          18990   \n",
       "4  Lenovo Athlon Dual Core - (4 GB/256 GB SSD/DOS...   38000          18490   \n",
       "5  Avita SATUS S111 Celeron Dual Core - (4 GB/128...   29990          16490   \n",
       "6  ASUS Chromebook Touch Intel Celeron Dual Core ...   29990          17990   \n",
       "7  Infinix INBook Y1 Plus Intel Core i3 10th Gen ...   44990          27990   \n",
       "8  Avita SATUS S111 Celeron Dual Core - (4 GB/128...   29990          16490   \n",
       "9  ASUS EeeBook 12 Celeron Dual Core 4th Gen - (4...   25990          17990   \n",
       "\n",
       "  Offer Ratings                                     Processor  \\\n",
       "0  30%      NaN  Intel Celeron Quad Core Processor (11th Gen)   \n",
       "1  36%      4.3            Intel Core i9 Processor (12th Gen)   \n",
       "2  45%      3.8                AMD Athlon Dual Core Processor   \n",
       "3  38%      3.8             Intel Celeron Dual Core Processor   \n",
       "4  51%      3.8                AMD Athlon Dual Core Processor   \n",
       "5  45%      3.7             Intel Celeron Dual Core Processor   \n",
       "6  40%      3.9             Intel Celeron Dual Core Processor   \n",
       "7  37%      4.2            Intel Core i3 Processor (10th Gen)   \n",
       "8  45%      3.7             Intel Celeron Dual Core Processor   \n",
       "9  30%      3.9   Intel Celeron Dual Core Processor (4th Gen)   \n",
       "\n",
       "                                         Description  \n",
       "0  Intel Celeron Quad Core Processor (11th Gen)4 ...  \n",
       "1  Intel Core i9 Processor (12th Gen)32 GB LPDDR5...  \n",
       "2  AMD Athlon Dual Core Processor4 GB DDR4 RAMWin...  \n",
       "3  Intel Celeron Dual Core Processor4 GB LPDDR4 R...  \n",
       "4  AMD Athlon Dual Core Processor4 GB DDR4 RAMDOS...  \n",
       "5  Intel Celeron Dual Core Processor4 GB DDR4 RAM...  \n",
       "6  Intel Celeron Dual Core Processor4 GB LPDDR4 R...  \n",
       "7  Intel Core i3 Processor (10th Gen)8 GB LPDDR4X...  \n",
       "8  Intel Celeron Dual Core Processor4 GB DDR4 RAM...  \n",
       "9  Intel Celeron Dual Core Processor (4th Gen)4 G...  "
      ]
     },
     "execution_count": 14,
     "metadata": {},
     "output_type": "execute_result"
    }
   ],
   "source": [
    "df.head(10)"
   ]
  },
  {
   "cell_type": "code",
   "execution_count": 15,
   "id": "28022b9c",
   "metadata": {},
   "outputs": [
    {
     "name": "stdout",
     "output_type": "stream",
     "text": [
      "0     4 GB\n",
      "1    32 GB\n",
      "2     4 GB\n",
      "3     4 GB\n",
      "4     4 GB\n",
      "5     4 GB\n",
      "6     4 GB\n",
      "7     8 GB\n",
      "8     4 GB\n",
      "9     4 GB\n",
      "Name: RAM, dtype: object\n"
     ]
    }
   ],
   "source": [
    "#regular expression (regex) pattern to identify the RAM capacity in GB.\n",
    "df['RAM'] = df['Description'].str.extract(r'(\\d+\\s*GB)')\n",
    "print(df['RAM'].head(10))"
   ]
  },
  {
   "cell_type": "code",
   "execution_count": 16,
   "id": "c7fb7173",
   "metadata": {},
   "outputs": [
    {
     "name": "stdout",
     "output_type": "stream",
     "text": [
      "0    Infinix Y1 Plus Neo (2023) Celeron Quad Core 1...\n",
      "1    Infinix ZERO BOOK ULTRA Series Laptop Intel Co...\n",
      "2    Lenovo Athlon Dual Core 3050U - (4 GB/256 GB S...\n",
      "3    ASUS Chromebook Touch Intel Celeron Dual Core ...\n",
      "4    Lenovo Athlon Dual Core - (4 GB/256 GB SSD/DOS...\n",
      "5    Avita SATUS S111 Celeron Dual Core - (4 GB/128...\n",
      "6    ASUS Chromebook Touch Intel Celeron Dual Core ...\n",
      "7    Infinix INBook Y1 Plus Intel Core i3 10th Gen ...\n",
      "8    Avita SATUS S111 Celeron Dual Core - (4 GB/128...\n",
      "9    ASUS EeeBook 12 Celeron Dual Core 4th Gen - (4...\n",
      "Name: Product_Name, dtype: object\n"
     ]
    }
   ],
   "source": [
    "print(df['Product_Name'].head(10))"
   ]
  },
  {
   "cell_type": "code",
   "execution_count": 17,
   "id": "11ed6773",
   "metadata": {},
   "outputs": [
    {
     "name": "stdout",
     "output_type": "stream",
     "text": [
      "0    Infinix Y1 Plus Neo (2023) Celeron Quad Core 1...\n",
      "1    Infinix ZERO BOOK ULTRA Series Laptop Intel Co...\n",
      "2                       Lenovo Athlon Dual Core 3050U \n",
      "3       ASUS Chromebook Touch Intel Celeron Dual Core \n",
      "4                             Lenovo Athlon Dual Core \n",
      "5                  Avita SATUS S111 Celeron Dual Core \n",
      "6       ASUS Chromebook Touch Intel Celeron Dual Core \n",
      "7       Infinix INBook Y1 Plus Intel Core i3 10th Gen \n",
      "8                  Avita SATUS S111 Celeron Dual Core \n",
      "9           ASUS EeeBook 12 Celeron Dual Core 4th Gen \n",
      "Name: Product_Name, dtype: object\n"
     ]
    }
   ],
   "source": [
    "#splits each element in the 'Product_Name' column into a list of substrings using the '-' character as a delimiter\n",
    "df['Product_Name'] = df['Product_Name'].str.split('-')\n",
    "df['Product_Name'] = df['Product_Name'].str.get(0)\n",
    "print(df['Product_Name'].head(10))"
   ]
  },
  {
   "cell_type": "code",
   "execution_count": 18,
   "id": "6f887815",
   "metadata": {},
   "outputs": [
    {
     "name": "stdout",
     "output_type": "stream",
     "text": [
      "0    Infinix\n",
      "1    Infinix\n",
      "2     Lenovo\n",
      "3       ASUS\n",
      "4     Lenovo\n",
      "5      Avita\n",
      "6       ASUS\n",
      "7    Infinix\n",
      "8      Avita\n",
      "9       ASUS\n",
      "Name: Brand, dtype: object\n"
     ]
    }
   ],
   "source": [
    "#get brand name from product name column\n",
    "df['Brand'] = df['Product_Name'].str.split()\n",
    "df['Brand'] = df['Brand'].str.get(0)\n",
    "print(df['Brand'].head(10))"
   ]
  },
  {
   "cell_type": "code",
   "execution_count": 19,
   "id": "d48f2dc8",
   "metadata": {},
   "outputs": [
    {
     "name": "stdout",
     "output_type": "stream",
     "text": [
      "0    Intel\n",
      "1    Intel\n",
      "2      AMD\n",
      "3    Intel\n",
      "4      AMD\n",
      "5    Intel\n",
      "6    Intel\n",
      "7    Intel\n",
      "8    Intel\n",
      "9    Intel\n",
      "Name: Processor_Brand, dtype: object\n"
     ]
    }
   ],
   "source": [
    "#get processor brand from processor column\n",
    "df['Processor_Brand'] = df['Processor'].str.split()\n",
    "df['Processor_Brand'] = df['Processor_Brand'].str.get(0)\n",
    "print(df['Processor_Brand'].head(10))"
   ]
  },
  {
   "cell_type": "code",
   "execution_count": 20,
   "id": "13c84a85",
   "metadata": {},
   "outputs": [],
   "source": [
    "#creates a new DataFrame\n",
    "df = df[['Product_Name','Brand','RAM','Offer','Ratings','Selling_Price','Total','Processor_Brand','Processor']]"
   ]
  },
  {
   "cell_type": "code",
   "execution_count": 21,
   "id": "d4c2d339",
   "metadata": {},
   "outputs": [
    {
     "data": {
      "text/plain": [
       "Product_Name         0\n",
       "Brand                0\n",
       "RAM                  0\n",
       "Offer                0\n",
       "Ratings            201\n",
       "Selling_Price        0\n",
       "Total                0\n",
       "Processor_Brand      0\n",
       "Processor            0\n",
       "dtype: int64"
      ]
     },
     "execution_count": 21,
     "metadata": {},
     "output_type": "execute_result"
    }
   ],
   "source": [
    "df.isnull().sum()"
   ]
  },
  {
   "cell_type": "code",
   "execution_count": 22,
   "id": "ff1fbfb8",
   "metadata": {},
   "outputs": [],
   "source": [
    "#calculates the average rating from the 'Ratings' column in the DataFrame.\n",
    "avg_rating = round(df['Ratings'].astype('float').mean(),1)\n",
    "\n",
    "#replaces any missing values in the 'Ratings' column of the DataFrame.\n",
    "df['Ratings'].fillna(avg_rating, inplace=True)\n",
    "df['Ratings'] = df['Ratings'].astype('float')"
   ]
  },
  {
   "cell_type": "code",
   "execution_count": 23,
   "id": "61895709",
   "metadata": {},
   "outputs": [],
   "source": [
    "#creates a new DataFrame\n",
    "df = df[['Product_Name','Brand','RAM','Offer','Ratings','Selling_Price','Total','Processor_Brand','Processor']]"
   ]
  },
  {
   "cell_type": "code",
   "execution_count": 24,
   "id": "7f802635",
   "metadata": {},
   "outputs": [
    {
     "data": {
      "text/plain": [
       "Product_Name       0\n",
       "Brand              0\n",
       "RAM                0\n",
       "Offer              0\n",
       "Ratings            0\n",
       "Selling_Price      0\n",
       "Total              0\n",
       "Processor_Brand    0\n",
       "Processor          0\n",
       "dtype: int64"
      ]
     },
     "execution_count": 24,
     "metadata": {},
     "output_type": "execute_result"
    }
   ],
   "source": [
    "df.isnull().sum()"
   ]
  },
  {
   "cell_type": "code",
   "execution_count": 25,
   "id": "1abbfa34",
   "metadata": {},
   "outputs": [
    {
     "name": "stdout",
     "output_type": "stream",
     "text": [
      "<class 'pandas.core.frame.DataFrame'>\n",
      "Index: 974 entries, 0 to 983\n",
      "Data columns (total 9 columns):\n",
      " #   Column           Non-Null Count  Dtype  \n",
      "---  ------           --------------  -----  \n",
      " 0   Product_Name     974 non-null    object \n",
      " 1   Brand            974 non-null    object \n",
      " 2   RAM              974 non-null    object \n",
      " 3   Offer            974 non-null    object \n",
      " 4   Ratings          974 non-null    float64\n",
      " 5   Selling_Price    974 non-null    int32  \n",
      " 6   Total            974 non-null    int32  \n",
      " 7   Processor_Brand  974 non-null    object \n",
      " 8   Processor        974 non-null    object \n",
      "dtypes: float64(1), int32(2), object(6)\n",
      "memory usage: 68.5+ KB\n"
     ]
    }
   ],
   "source": [
    "df.info()\n"
   ]
  },
  {
   "cell_type": "code",
   "execution_count": 26,
   "id": "c631948b",
   "metadata": {},
   "outputs": [],
   "source": [
    "#clean dataset into csv\n",
    "df.to_csv('Clean dataset laptop.csv', index=False)"
   ]
  },
  {
   "cell_type": "code",
   "execution_count": 27,
   "id": "b6014d1e",
   "metadata": {},
   "outputs": [
    {
     "data": {
      "text/html": [
       "<div>\n",
       "<style scoped>\n",
       "    .dataframe tbody tr th:only-of-type {\n",
       "        vertical-align: middle;\n",
       "    }\n",
       "\n",
       "    .dataframe tbody tr th {\n",
       "        vertical-align: top;\n",
       "    }\n",
       "\n",
       "    .dataframe thead th {\n",
       "        text-align: right;\n",
       "    }\n",
       "</style>\n",
       "<table border=\"1\" class=\"dataframe\">\n",
       "  <thead>\n",
       "    <tr style=\"text-align: right;\">\n",
       "      <th></th>\n",
       "      <th>Product_Name</th>\n",
       "      <th>Brand</th>\n",
       "      <th>RAM</th>\n",
       "      <th>Offer</th>\n",
       "      <th>Ratings</th>\n",
       "      <th>Selling_Price</th>\n",
       "      <th>Total</th>\n",
       "      <th>Processor_Brand</th>\n",
       "      <th>Processor</th>\n",
       "    </tr>\n",
       "  </thead>\n",
       "  <tbody>\n",
       "    <tr>\n",
       "      <th>0</th>\n",
       "      <td>Infinix Y1 Plus Neo (2023) Celeron Quad Core 1...</td>\n",
       "      <td>Infinix</td>\n",
       "      <td>4 GB</td>\n",
       "      <td>30%</td>\n",
       "      <td>4.2</td>\n",
       "      <td>20990</td>\n",
       "      <td>29990</td>\n",
       "      <td>Intel</td>\n",
       "      <td>Intel Celeron Quad Core Processor (11th Gen)</td>\n",
       "    </tr>\n",
       "    <tr>\n",
       "      <th>1</th>\n",
       "      <td>Infinix ZERO BOOK ULTRA Series Laptop Intel Co...</td>\n",
       "      <td>Infinix</td>\n",
       "      <td>32 GB</td>\n",
       "      <td>36%</td>\n",
       "      <td>4.3</td>\n",
       "      <td>94990</td>\n",
       "      <td>149990</td>\n",
       "      <td>Intel</td>\n",
       "      <td>Intel Core i9 Processor (12th Gen)</td>\n",
       "    </tr>\n",
       "    <tr>\n",
       "      <th>2</th>\n",
       "      <td>Lenovo Athlon Dual Core 3050U</td>\n",
       "      <td>Lenovo</td>\n",
       "      <td>4 GB</td>\n",
       "      <td>45%</td>\n",
       "      <td>3.8</td>\n",
       "      <td>18999</td>\n",
       "      <td>35000</td>\n",
       "      <td>AMD</td>\n",
       "      <td>AMD Athlon Dual Core Processor</td>\n",
       "    </tr>\n",
       "    <tr>\n",
       "      <th>3</th>\n",
       "      <td>ASUS Chromebook Touch Intel Celeron Dual Core</td>\n",
       "      <td>ASUS</td>\n",
       "      <td>4 GB</td>\n",
       "      <td>38%</td>\n",
       "      <td>3.8</td>\n",
       "      <td>18990</td>\n",
       "      <td>30990</td>\n",
       "      <td>Intel</td>\n",
       "      <td>Intel Celeron Dual Core Processor</td>\n",
       "    </tr>\n",
       "    <tr>\n",
       "      <th>4</th>\n",
       "      <td>Lenovo Athlon Dual Core</td>\n",
       "      <td>Lenovo</td>\n",
       "      <td>4 GB</td>\n",
       "      <td>51%</td>\n",
       "      <td>3.8</td>\n",
       "      <td>18490</td>\n",
       "      <td>38000</td>\n",
       "      <td>AMD</td>\n",
       "      <td>AMD Athlon Dual Core Processor</td>\n",
       "    </tr>\n",
       "    <tr>\n",
       "      <th>5</th>\n",
       "      <td>Avita SATUS S111 Celeron Dual Core</td>\n",
       "      <td>Avita</td>\n",
       "      <td>4 GB</td>\n",
       "      <td>45%</td>\n",
       "      <td>3.7</td>\n",
       "      <td>16490</td>\n",
       "      <td>29990</td>\n",
       "      <td>Intel</td>\n",
       "      <td>Intel Celeron Dual Core Processor</td>\n",
       "    </tr>\n",
       "    <tr>\n",
       "      <th>6</th>\n",
       "      <td>ASUS Chromebook Touch Intel Celeron Dual Core</td>\n",
       "      <td>ASUS</td>\n",
       "      <td>4 GB</td>\n",
       "      <td>40%</td>\n",
       "      <td>3.9</td>\n",
       "      <td>17990</td>\n",
       "      <td>29990</td>\n",
       "      <td>Intel</td>\n",
       "      <td>Intel Celeron Dual Core Processor</td>\n",
       "    </tr>\n",
       "    <tr>\n",
       "      <th>7</th>\n",
       "      <td>Infinix INBook Y1 Plus Intel Core i3 10th Gen</td>\n",
       "      <td>Infinix</td>\n",
       "      <td>8 GB</td>\n",
       "      <td>37%</td>\n",
       "      <td>4.2</td>\n",
       "      <td>27990</td>\n",
       "      <td>44990</td>\n",
       "      <td>Intel</td>\n",
       "      <td>Intel Core i3 Processor (10th Gen)</td>\n",
       "    </tr>\n",
       "    <tr>\n",
       "      <th>8</th>\n",
       "      <td>Avita SATUS S111 Celeron Dual Core</td>\n",
       "      <td>Avita</td>\n",
       "      <td>4 GB</td>\n",
       "      <td>45%</td>\n",
       "      <td>3.7</td>\n",
       "      <td>16490</td>\n",
       "      <td>29990</td>\n",
       "      <td>Intel</td>\n",
       "      <td>Intel Celeron Dual Core Processor</td>\n",
       "    </tr>\n",
       "    <tr>\n",
       "      <th>9</th>\n",
       "      <td>ASUS EeeBook 12 Celeron Dual Core 4th Gen</td>\n",
       "      <td>ASUS</td>\n",
       "      <td>4 GB</td>\n",
       "      <td>30%</td>\n",
       "      <td>3.9</td>\n",
       "      <td>17990</td>\n",
       "      <td>25990</td>\n",
       "      <td>Intel</td>\n",
       "      <td>Intel Celeron Dual Core Processor (4th Gen)</td>\n",
       "    </tr>\n",
       "  </tbody>\n",
       "</table>\n",
       "</div>"
      ],
      "text/plain": [
       "                                        Product_Name    Brand    RAM Offer  \\\n",
       "0  Infinix Y1 Plus Neo (2023) Celeron Quad Core 1...  Infinix   4 GB  30%    \n",
       "1  Infinix ZERO BOOK ULTRA Series Laptop Intel Co...  Infinix  32 GB  36%    \n",
       "2                     Lenovo Athlon Dual Core 3050U    Lenovo   4 GB  45%    \n",
       "3     ASUS Chromebook Touch Intel Celeron Dual Core      ASUS   4 GB  38%    \n",
       "4                           Lenovo Athlon Dual Core    Lenovo   4 GB  51%    \n",
       "5                Avita SATUS S111 Celeron Dual Core     Avita   4 GB  45%    \n",
       "6     ASUS Chromebook Touch Intel Celeron Dual Core      ASUS   4 GB  40%    \n",
       "7     Infinix INBook Y1 Plus Intel Core i3 10th Gen   Infinix   8 GB  37%    \n",
       "8                Avita SATUS S111 Celeron Dual Core     Avita   4 GB  45%    \n",
       "9         ASUS EeeBook 12 Celeron Dual Core 4th Gen      ASUS   4 GB  30%    \n",
       "\n",
       "   Ratings  Selling_Price   Total Processor_Brand  \\\n",
       "0      4.2          20990   29990           Intel   \n",
       "1      4.3          94990  149990           Intel   \n",
       "2      3.8          18999   35000             AMD   \n",
       "3      3.8          18990   30990           Intel   \n",
       "4      3.8          18490   38000             AMD   \n",
       "5      3.7          16490   29990           Intel   \n",
       "6      3.9          17990   29990           Intel   \n",
       "7      4.2          27990   44990           Intel   \n",
       "8      3.7          16490   29990           Intel   \n",
       "9      3.9          17990   25990           Intel   \n",
       "\n",
       "                                      Processor  \n",
       "0  Intel Celeron Quad Core Processor (11th Gen)  \n",
       "1            Intel Core i9 Processor (12th Gen)  \n",
       "2                AMD Athlon Dual Core Processor  \n",
       "3             Intel Celeron Dual Core Processor  \n",
       "4                AMD Athlon Dual Core Processor  \n",
       "5             Intel Celeron Dual Core Processor  \n",
       "6             Intel Celeron Dual Core Processor  \n",
       "7            Intel Core i3 Processor (10th Gen)  \n",
       "8             Intel Celeron Dual Core Processor  \n",
       "9   Intel Celeron Dual Core Processor (4th Gen)  "
      ]
     },
     "execution_count": 27,
     "metadata": {},
     "output_type": "execute_result"
    }
   ],
   "source": [
    "df.head(10)"
   ]
  },
  {
   "cell_type": "code",
   "execution_count": 28,
   "id": "31653837",
   "metadata": {},
   "outputs": [
    {
     "name": "stdout",
     "output_type": "stream",
     "text": [
      "Total laptops are: 399pcs.\n"
     ]
    }
   ],
   "source": [
    "#Now we start Data Analysis and Visulizations\n",
    "\n",
    "\n",
    "print((f\"Total laptops are: {len(df['Product_Name'].unique())}pcs.\"))"
   ]
  },
  {
   "cell_type": "code",
   "execution_count": 29,
   "id": "ad82c8ed",
   "metadata": {},
   "outputs": [
    {
     "data": {
      "image/png": "[encoded data removed]",
      "text/plain": [
       "<Figure size 640x480 with 1 Axes>"
      ]
     },
     "metadata": {},
     "output_type": "display_data"
    }
   ],
   "source": [
    "#finds the top 10 brands with the highest number of products, \n",
    "#creates a pie chart representing the distribution of products across these brands, \n",
    "#and displays the chart with brand names, count percentages, and an explode effect for a couple of slices to enhance visibility.\n",
    "\n",
    "laptop_brand = df.groupby('Brand', as_index=False)['Product_Name'].count().sort_values(by='Product_Name', ascending=False).head(10)\n",
    "brand_name = [i.capitalize() for i in laptop_brand['Brand']] #This way we can capitalized the brand name.\n",
    "myexplode = [0,0,0,0,0,0,0.1,0,0.2,0]\n",
    "plt.pie(laptop_brand['Product_Name'], labels=brand_name, explode=myexplode, autopct='%1.1f%%') \n",
    "\n",
    "plt.title('These Brand are available')\n",
    "plt.show()"
   ]
  },
  {
   "cell_type": "code",
   "execution_count": 30,
   "id": "b86c6858",
   "metadata": {},
   "outputs": [
    {
     "name": "stdout",
     "output_type": "stream",
     "text": [
      "top10_rating_brand \n",
      "\n",
      "        Brand  Ratings\n",
      "1       APPLE      4.6\n",
      "15       acer      4.4\n",
      "5       CHUWI      4.4\n",
      "7    GIGABYTE      4.4\n",
      "11        MSI      4.3\n",
      "8          HP      4.2\n",
      "9     Infinix      4.2\n",
      "14    SAMSUNG      4.2\n",
      "13  RedmiBook      4.2\n",
      "16     realme      4.2\n"
     ]
    }
   ],
   "source": [
    "#Top 10 rating Brands\n",
    "\n",
    "top10_rating_brand = df.groupby(['Brand'], as_index=False)['Ratings'].mean().round(1).sort_values(by='Ratings', ascending=False).head(10)\n",
    "print(f\"top10_rating_brand \\n\\n{top10_rating_brand}\")\n",
    " "
   ]
  },
  {
   "cell_type": "code",
   "execution_count": 31,
   "id": "bd311bc4",
   "metadata": {},
   "outputs": [
    {
     "name": "stdout",
     "output_type": "stream",
     "text": [
      "top_rating_processor \n",
      "\n",
      "   Processor_Brand  Ratings\n",
      "0              AMD      4.2\n",
      "5            Intel      4.2\n",
      "6         MediaTek      4.1\n",
      "11        Qualcomm      4.0\n"
     ]
    }
   ],
   "source": [
    "#Top processor rating\n",
    "top_rating_processor = df.groupby('Processor_Brand',as_index=False)['Ratings'].mean().round(1).sort_values(by='Ratings',ascending=False)\n",
    "processor_brands = ['AMD', 'Intel', 'MediaTek', 'Qualcomm']\n",
    "x = top_rating_processor[top_rating_processor['Processor_Brand'].isin(processor_brands)]\n",
    "\n",
    "print(f\"top_rating_processor \\n\\n{x}\")\n"
   ]
  },
  {
   "cell_type": "code",
   "execution_count": 32,
   "id": "e5000578",
   "metadata": {},
   "outputs": [
    {
     "data": {
      "image/png": "[encoded data removed]",
      "text/plain": [
       "<Figure size 500x400 with 1 Axes>"
      ]
     },
     "metadata": {},
     "output_type": "display_data"
    }
   ],
   "source": [
    "#Chart for Top available processor\n",
    "plt.figure(figsize=(5,4))\n",
    "ax = sns.countplot(x='Processor_Brand', data=df[df['Processor_Brand'].isin(processor_brands)], palette='CMRmap')\n",
    "plt.title('Top Available Processor',color='g')\n",
    "plt.show()"
   ]
  },
  {
   "cell_type": "code",
   "execution_count": 33,
   "id": "35cc82d3",
   "metadata": {},
   "outputs": [
    {
     "data": {
      "image/png": "[encoded data removed]",
      "text/plain": [
       "<Figure size 500x400 with 1 Axes>"
      ]
     },
     "metadata": {},
     "output_type": "display_data"
    }
   ],
   "source": [
    "#chart analysis for availablity of laptop using RAM\n",
    "ram_type = df.groupby('RAM', as_index=False)['Brand'].count().sort_values(by='Brand', ascending=False).head(4)\n",
    "plt.figure(figsize=(5,4)) #Chart size\n",
    "ax = sns.barplot(x='RAM', y='Brand', data=ram_type) \n",
    "plt.title('These RAM Laptops are available',color='b')\n",
    "plt.ylabel('Counts')\n",
    "for bars in ax.containers:\n",
    "    ax.bar_label(bars, padding=-20)"
   ]
  },
  {
   "cell_type": "code",
   "execution_count": 34,
   "id": "64bc7c37",
   "metadata": {},
   "outputs": [
    {
     "name": "stdout",
     "output_type": "stream",
     "text": [
      "Minimun price of Laptops \n",
      "\n",
      "                                          Product_Name  Selling_Price\n",
      "389        Primebook 4G Android Based MediaTek MT8788           13990\n",
      "322  Lenovo IdeaPad 3 Chromebook Intel Celeron Dual...          13990\n",
      "167                Avita SATUS S111 Celeron Dual Core           16490\n",
      "166         Avita PURA E 14 Ryzen 5 Quad Core 3rd Gen           16990\n",
      "9       ASUS Chromebook Touch Intel Celeron Dual Core           17990\n",
      "16          ASUS EeeBook 12 Celeron Dual Core 4th Gen           17990\n",
      "165                       Avita PURA APU Dual Core A6           18390\n",
      "313                           Lenovo Athlon Dual Core           18490\n",
      "314                     Lenovo Athlon Dual Core 3050U           18999\n",
      "168                  CHUWI Celeron Dual Core 10th Gen           19990\n"
     ]
    }
   ],
   "source": [
    "#Minimun price of Laptops \n",
    "\n",
    "min_price_laptop = df.groupby('Product_Name', as_index=False)['Selling_Price'].min().sort_values(by='Selling_Price', ascending=True).head(10)\n",
    "print(f\"Minimun price of Laptops \\n\\n{min_price_laptop}\")\n"
   ]
  },
  {
   "cell_type": "code",
   "execution_count": 35,
   "id": "e925b47e",
   "metadata": {},
   "outputs": [
    {
     "name": "stdout",
     "output_type": "stream",
     "text": [
      "Maximum price of Laptops \n",
      "\n",
      "                                          Product_Name  Selling_Price\n",
      "378                              MSI Core i9 13th Gen          599990\n",
      "51   ASUS ROG Zephyrus M16 (2023) with 90WHr Batter...         364990\n",
      "38   ASUS ROG Strix SCAR 18 (2023) with 90WHr Batte...         362327\n",
      "40   ASUS ROG Zephyrus Duo 16 (2022) Dual Screen La...         361990\n",
      "171                   DELL Alienware Core i9 11th Gen          323990\n",
      "170                   DELL Alienware Core i7 12th Gen          300490\n",
      "27   ASUS ROG Flow Z13 (2022) with RTX 3080 eGPU Co...         296990\n",
      "256                    HP Omen Intel Core i9 12th Gen          296000\n",
      "386                 MSI Stealth GS66 Core i7 12th Gen          275990\n",
      "37   ASUS ROG Strix SCAR 17 (2023) with 90WHr Batte...         269990\n"
     ]
    }
   ],
   "source": [
    "#Maximum price of Laptops\n",
    "\n",
    "max_price_laptop = df.groupby('Product_Name', as_index=False)['Selling_Price'].max().sort_values(by='Selling_Price', ascending=False).head(10)\n",
    "print(f\"Maximum price of Laptops \\n\\n{max_price_laptop}\")\n"
   ]
  },
  {
   "cell_type": "code",
   "execution_count": 36,
   "id": "991d1c76",
   "metadata": {},
   "outputs": [
    {
     "data": {
      "text/html": [
       "<div>\n",
       "<style scoped>\n",
       "    .dataframe tbody tr th:only-of-type {\n",
       "        vertical-align: middle;\n",
       "    }\n",
       "\n",
       "    .dataframe tbody tr th {\n",
       "        vertical-align: top;\n",
       "    }\n",
       "\n",
       "    .dataframe thead th {\n",
       "        text-align: right;\n",
       "    }\n",
       "</style>\n",
       "<table border=\"1\" class=\"dataframe\">\n",
       "  <thead>\n",
       "    <tr style=\"text-align: right;\">\n",
       "      <th></th>\n",
       "      <th>Product_Name</th>\n",
       "      <th>Brand</th>\n",
       "      <th>RAM</th>\n",
       "      <th>Offer</th>\n",
       "      <th>Ratings</th>\n",
       "      <th>Selling_Price</th>\n",
       "      <th>Total</th>\n",
       "      <th>Processor_Brand</th>\n",
       "      <th>Processor</th>\n",
       "    </tr>\n",
       "  </thead>\n",
       "  <tbody>\n",
       "    <tr>\n",
       "      <th>0</th>\n",
       "      <td>Infinix Y1 Plus Neo (2023) Celeron Quad Core 1...</td>\n",
       "      <td>Infinix</td>\n",
       "      <td>4 GB</td>\n",
       "      <td>30%</td>\n",
       "      <td>4.2</td>\n",
       "      <td>20990</td>\n",
       "      <td>29990</td>\n",
       "      <td>Intel</td>\n",
       "      <td>Intel Celeron Quad Core Processor (11th Gen)</td>\n",
       "    </tr>\n",
       "    <tr>\n",
       "      <th>1</th>\n",
       "      <td>Infinix ZERO BOOK ULTRA Series Laptop Intel Co...</td>\n",
       "      <td>Infinix</td>\n",
       "      <td>32 GB</td>\n",
       "      <td>36%</td>\n",
       "      <td>4.3</td>\n",
       "      <td>94990</td>\n",
       "      <td>149990</td>\n",
       "      <td>Intel</td>\n",
       "      <td>Intel Core i9 Processor (12th Gen)</td>\n",
       "    </tr>\n",
       "    <tr>\n",
       "      <th>2</th>\n",
       "      <td>Lenovo Athlon Dual Core 3050U</td>\n",
       "      <td>Lenovo</td>\n",
       "      <td>4 GB</td>\n",
       "      <td>45%</td>\n",
       "      <td>3.8</td>\n",
       "      <td>18999</td>\n",
       "      <td>35000</td>\n",
       "      <td>AMD</td>\n",
       "      <td>AMD Athlon Dual Core Processor</td>\n",
       "    </tr>\n",
       "    <tr>\n",
       "      <th>3</th>\n",
       "      <td>ASUS Chromebook Touch Intel Celeron Dual Core</td>\n",
       "      <td>ASUS</td>\n",
       "      <td>4 GB</td>\n",
       "      <td>38%</td>\n",
       "      <td>3.8</td>\n",
       "      <td>18990</td>\n",
       "      <td>30990</td>\n",
       "      <td>Intel</td>\n",
       "      <td>Intel Celeron Dual Core Processor</td>\n",
       "    </tr>\n",
       "    <tr>\n",
       "      <th>4</th>\n",
       "      <td>Lenovo Athlon Dual Core</td>\n",
       "      <td>Lenovo</td>\n",
       "      <td>4 GB</td>\n",
       "      <td>51%</td>\n",
       "      <td>3.8</td>\n",
       "      <td>18490</td>\n",
       "      <td>38000</td>\n",
       "      <td>AMD</td>\n",
       "      <td>AMD Athlon Dual Core Processor</td>\n",
       "    </tr>\n",
       "    <tr>\n",
       "      <th>5</th>\n",
       "      <td>Avita SATUS S111 Celeron Dual Core</td>\n",
       "      <td>Avita</td>\n",
       "      <td>4 GB</td>\n",
       "      <td>45%</td>\n",
       "      <td>3.7</td>\n",
       "      <td>16490</td>\n",
       "      <td>29990</td>\n",
       "      <td>Intel</td>\n",
       "      <td>Intel Celeron Dual Core Processor</td>\n",
       "    </tr>\n",
       "    <tr>\n",
       "      <th>6</th>\n",
       "      <td>ASUS Chromebook Touch Intel Celeron Dual Core</td>\n",
       "      <td>ASUS</td>\n",
       "      <td>4 GB</td>\n",
       "      <td>40%</td>\n",
       "      <td>3.9</td>\n",
       "      <td>17990</td>\n",
       "      <td>29990</td>\n",
       "      <td>Intel</td>\n",
       "      <td>Intel Celeron Dual Core Processor</td>\n",
       "    </tr>\n",
       "    <tr>\n",
       "      <th>7</th>\n",
       "      <td>Infinix INBook Y1 Plus Intel Core i3 10th Gen</td>\n",
       "      <td>Infinix</td>\n",
       "      <td>8 GB</td>\n",
       "      <td>37%</td>\n",
       "      <td>4.2</td>\n",
       "      <td>27990</td>\n",
       "      <td>44990</td>\n",
       "      <td>Intel</td>\n",
       "      <td>Intel Core i3 Processor (10th Gen)</td>\n",
       "    </tr>\n",
       "    <tr>\n",
       "      <th>8</th>\n",
       "      <td>Avita SATUS S111 Celeron Dual Core</td>\n",
       "      <td>Avita</td>\n",
       "      <td>4 GB</td>\n",
       "      <td>45%</td>\n",
       "      <td>3.7</td>\n",
       "      <td>16490</td>\n",
       "      <td>29990</td>\n",
       "      <td>Intel</td>\n",
       "      <td>Intel Celeron Dual Core Processor</td>\n",
       "    </tr>\n",
       "    <tr>\n",
       "      <th>9</th>\n",
       "      <td>ASUS EeeBook 12 Celeron Dual Core 4th Gen</td>\n",
       "      <td>ASUS</td>\n",
       "      <td>4 GB</td>\n",
       "      <td>30%</td>\n",
       "      <td>3.9</td>\n",
       "      <td>17990</td>\n",
       "      <td>25990</td>\n",
       "      <td>Intel</td>\n",
       "      <td>Intel Celeron Dual Core Processor (4th Gen)</td>\n",
       "    </tr>\n",
       "  </tbody>\n",
       "</table>\n",
       "</div>"
      ],
      "text/plain": [
       "                                        Product_Name    Brand    RAM Offer  \\\n",
       "0  Infinix Y1 Plus Neo (2023) Celeron Quad Core 1...  Infinix   4 GB  30%    \n",
       "1  Infinix ZERO BOOK ULTRA Series Laptop Intel Co...  Infinix  32 GB  36%    \n",
       "2                     Lenovo Athlon Dual Core 3050U    Lenovo   4 GB  45%    \n",
       "3     ASUS Chromebook Touch Intel Celeron Dual Core      ASUS   4 GB  38%    \n",
       "4                           Lenovo Athlon Dual Core    Lenovo   4 GB  51%    \n",
       "5                Avita SATUS S111 Celeron Dual Core     Avita   4 GB  45%    \n",
       "6     ASUS Chromebook Touch Intel Celeron Dual Core      ASUS   4 GB  40%    \n",
       "7     Infinix INBook Y1 Plus Intel Core i3 10th Gen   Infinix   8 GB  37%    \n",
       "8                Avita SATUS S111 Celeron Dual Core     Avita   4 GB  45%    \n",
       "9         ASUS EeeBook 12 Celeron Dual Core 4th Gen      ASUS   4 GB  30%    \n",
       "\n",
       "   Ratings  Selling_Price   Total Processor_Brand  \\\n",
       "0      4.2          20990   29990           Intel   \n",
       "1      4.3          94990  149990           Intel   \n",
       "2      3.8          18999   35000             AMD   \n",
       "3      3.8          18990   30990           Intel   \n",
       "4      3.8          18490   38000             AMD   \n",
       "5      3.7          16490   29990           Intel   \n",
       "6      3.9          17990   29990           Intel   \n",
       "7      4.2          27990   44990           Intel   \n",
       "8      3.7          16490   29990           Intel   \n",
       "9      3.9          17990   25990           Intel   \n",
       "\n",
       "                                      Processor  \n",
       "0  Intel Celeron Quad Core Processor (11th Gen)  \n",
       "1            Intel Core i9 Processor (12th Gen)  \n",
       "2                AMD Athlon Dual Core Processor  \n",
       "3             Intel Celeron Dual Core Processor  \n",
       "4                AMD Athlon Dual Core Processor  \n",
       "5             Intel Celeron Dual Core Processor  \n",
       "6             Intel Celeron Dual Core Processor  \n",
       "7            Intel Core i3 Processor (10th Gen)  \n",
       "8             Intel Celeron Dual Core Processor  \n",
       "9   Intel Celeron Dual Core Processor (4th Gen)  "
      ]
     },
     "execution_count": 36,
     "metadata": {},
     "output_type": "execute_result"
    }
   ],
   "source": [
    "df.head(10)"
   ]
  },
  {
   "cell_type": "code",
   "execution_count": 37,
   "id": "b40eefc9",
   "metadata": {},
   "outputs": [
    {
     "name": "stdout",
     "output_type": "stream",
     "text": [
      "                                      Product_Name  Selling_Price  Ratings  \\\n",
      "2                   Lenovo Athlon Dual Core 3050U           18999      3.8   \n",
      "3   ASUS Chromebook Touch Intel Celeron Dual Core           18990      3.8   \n",
      "4                         Lenovo Athlon Dual Core           18490      3.8   \n",
      "5              Avita SATUS S111 Celeron Dual Core           16490      3.7   \n",
      "6   ASUS Chromebook Touch Intel Celeron Dual Core           17990      3.9   \n",
      "8              Avita SATUS S111 Celeron Dual Core           16490      3.7   \n",
      "9       ASUS EeeBook 12 Celeron Dual Core 4th Gen           17990      3.9   \n",
      "13                        Lenovo Athlon Dual Core           18990      4.7   \n",
      "14             Avita SATUS S111 Celeron Dual Core           16490      3.7   \n",
      "15            HP Chromebook MediaTek Kompanio 500           19999      3.7   \n",
      "\n",
      "   Processor_Brand   RAM Offer  \n",
      "2              AMD  4 GB  45%   \n",
      "3            Intel  4 GB  38%   \n",
      "4              AMD  4 GB  51%   \n",
      "5            Intel  4 GB  45%   \n",
      "6            Intel  4 GB  40%   \n",
      "8            Intel  4 GB  45%   \n",
      "9            Intel  4 GB  30%   \n",
      "13             AMD  4 GB  36%   \n",
      "14           Intel  4 GB  45%   \n",
      "15        MediaTek  4 GB  19%   \n"
     ]
    }
   ],
   "source": [
    "#Product under 20000\n",
    "Product_under_20000 = df[df['Selling_Price']<=20000]\n",
    "Product_under_20000 = Product_under_20000[['Product_Name','Selling_Price','Ratings','Processor_Brand','RAM','Offer']].head(10)\n",
    "print(Product_under_20000)"
   ]
  },
  {
   "cell_type": "code",
   "execution_count": null,
   "id": "d36124ca",
   "metadata": {},
   "outputs": [],
   "source": []
  }
 ],
 "metadata": {
  "kernelspec": {
   "display_name": "Python 3 (ipykernel)",
   "language": "python",
   "name": "python3"
  },
  "language_info": {
   "codemirror_mode": {
    "name": "ipython",
    "version": 3
   },
   "file_extension": ".py",
   "mimetype": "text/x-python",
   "name": "python",
   "nbconvert_exporter": "python",
   "pygments_lexer": "ipython3",
   "version": "3.11.3"
  }
 },
 "nbformat": 4,
 "nbformat_minor": 5
}
